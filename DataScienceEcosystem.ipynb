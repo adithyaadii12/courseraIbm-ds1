{
 "cells": [
  {
   "cell_type": "markdown",
   "id": "4c3955b1-dafe-47f8-a784-a066a36fcb53",
   "metadata": {},
   "source": [
    "# Data Science Tools and Ecosystem"
   ]
  },
  {
   "cell_type": "markdown",
   "id": "1a9355ee-1832-496d-b2a6-bef9291806ae",
   "metadata": {},
   "source": [
    "In this notebook, Data Science Tools and Ecosystem are summarized."
   ]
  },
  {
   "cell_type": "markdown",
   "id": "ef4107fd-8e30-4466-be2e-55b8a4eaa6a7",
   "metadata": {},
   "source": [
    "Some of the popular languages that Data Scientists use are:\n",
    "\n",
    "1.Python\n",
    "\n",
    "2.R\n",
    "\n",
    "3.SQL\n",
    "\n",
    "4.Java"
   ]
  },
  {
   "cell_type": "markdown",
   "id": "223d18c7-9fdf-4421-a3f7-47b36aa1922e",
   "metadata": {},
   "source": [
    "Some of the commonly used libraries used by Data Scientists include:\n",
    "\n",
    "1. Seaborn\n",
    "\n",
    "2. matpotlib\n",
    "\n",
    "3. pandas\n",
    "\n",
    "4. ggplot2"
   ]
  },
  {
   "cell_type": "markdown",
   "id": "46a6664f-a50e-4207-9bec-584b5d499caa",
   "metadata": {},
   "source": [
    "## Data Science Tools\n",
    "\n",
    "1. JupyterLab\n",
    "2. Rstudio\n",
    "3. Google colab"
   ]
  },
  {
   "cell_type": "markdown",
   "id": "f6fa0ac5-eaa7-4ee5-8201-ffc483cf9e2b",
   "metadata": {},
   "source": [
    "### Below are a few examples of evaluating arithmetic expressions in Python:"
   ]
  },
  {
   "cell_type": "code",
   "execution_count": 1,
   "id": "0c85374e-4a9a-4274-a5bd-6c952ab85b8a",
   "metadata": {
    "tags": []
   },
   "outputs": [
    {
     "data": {
      "text/plain": [
       "17"
      ]
     },
     "execution_count": 1,
     "metadata": {},
     "output_type": "execute_result"
    }
   ],
   "source": [
    "(3*4)+5"
   ]
  },
  {
   "cell_type": "markdown",
   "id": "fa64d3ee-c728-4bc3-880c-1e79ab93c003",
   "metadata": {},
   "source": [
    " This will convert 200 minutes to hours by diving by 60"
   ]
  },
  {
   "cell_type": "code",
   "execution_count": 3,
   "id": "dd78da44-fe9c-4588-a33f-5b12aed8be0b",
   "metadata": {
    "tags": []
   },
   "outputs": [
    {
     "data": {
      "text/plain": [
       "3"
      ]
     },
     "execution_count": 3,
     "metadata": {},
     "output_type": "execute_result"
    }
   ],
   "source": [
    "200//60"
   ]
  },
  {
   "cell_type": "markdown",
   "id": "9c778cbf-d795-4dda-8f4e-015d9f856d1d",
   "metadata": {},
   "source": [
    "**Objectives:**\n",
    "\n",
    "-  This notebook shows popular languages and open-source tools used in Data Science.\n",
    "-  This notebooks shows popular libraries used for Data science visualization.\n",
    "-  This notebook also showcases a few Arithmetic operations."
   ]
  },
  {
   "cell_type": "markdown",
   "id": "72a50fe4-cedd-461c-83ef-ffa34dac221a",
   "metadata": {},
   "source": [
    "## Author\n",
    "Adithya"
   ]
  },
  {
   "cell_type": "code",
   "execution_count": null,
   "id": "d0870dc9-a5d0-4330-a61d-b9f890a2539d",
   "metadata": {},
   "outputs": [],
   "source": []
  }
 ],
 "metadata": {
  "kernelspec": {
   "display_name": "Python",
   "language": "python",
   "name": "conda-env-python-py"
  },
  "language_info": {
   "codemirror_mode": {
    "name": "ipython",
    "version": 3
   },
   "file_extension": ".py",
   "mimetype": "text/x-python",
   "name": "python",
   "nbconvert_exporter": "python",
   "pygments_lexer": "ipython3",
   "version": "3.7.12"
  }
 },
 "nbformat": 4,
 "nbformat_minor": 5
}
